{
  "nbformat": 4,
  "nbformat_minor": 0,
  "metadata": {
    "kernelspec": {
      "display_name": "Python 3",
      "language": "python",
      "name": "python3"
    },
    "language_info": {
      "codemirror_mode": {
        "name": "ipython",
        "version": 3
      },
      "file_extension": ".py",
      "mimetype": "text/x-python",
      "name": "python",
      "nbconvert_exporter": "python",
      "pygments_lexer": "ipython3",
      "version": "3.5.4"
    },
    "colab": {
      "name": "P01_JinkenHyogo_1.ipynb",
      "provenance": [],
      "collapsed_sections": [],
      "include_colab_link": true
    },
    "widgets": {
      "application/vnd.jupyter.widget-state+json": {
        "34d25fe5a4ae4f6b9042a179024c6db7": {
          "model_module": "@jupyter-widgets/controls",
          "model_name": "HBoxModel",
          "model_module_version": "1.5.0",
          "state": {
            "_dom_classes": [],
            "_model_module": "@jupyter-widgets/controls",
            "_model_module_version": "1.5.0",
            "_model_name": "HBoxModel",
            "_view_count": null,
            "_view_module": "@jupyter-widgets/controls",
            "_view_module_version": "1.5.0",
            "_view_name": "HBoxView",
            "box_style": "",
            "children": [
              "IPY_MODEL_1ee8d4a8e4a6410184cce6f59a1e27b6",
              "IPY_MODEL_db462901a9db42419f074d8e562784b2",
              "IPY_MODEL_b973848d401b4765b2fad02d48432849",
              "IPY_MODEL_27f0ea9aa67d4ef59e7b91f48162c90e",
              "IPY_MODEL_cca79c66d5204b08a580ddb984ee5d2a"
            ],
            "layout": "IPY_MODEL_6e2c64e255d740b1960b63995de41982"
          }
        },
        "1ee8d4a8e4a6410184cce6f59a1e27b6": {
          "model_module": "@jupyter-widgets/controls",
          "model_name": "ButtonModel",
          "model_module_version": "1.5.0",
          "state": {
            "_dom_classes": [],
            "_model_module": "@jupyter-widgets/controls",
            "_model_module_version": "1.5.0",
            "_model_name": "ButtonModel",
            "_view_count": null,
            "_view_module": "@jupyter-widgets/controls",
            "_view_module_version": "1.5.0",
            "_view_name": "ButtonView",
            "button_style": "info",
            "description": "「ごめんね」は",
            "disabled": false,
            "icon": "",
            "layout": "IPY_MODEL_9c27e58b464a40699abf4189e8c8f9a4",
            "style": "IPY_MODEL_ec44f4cd12a64dab9b9ed689c862e7d7",
            "tooltip": ""
          }
        },
        "db462901a9db42419f074d8e562784b2": {
          "model_module": "@jupyter-widgets/controls",
          "model_name": "ButtonModel",
          "model_module_version": "1.5.0",
          "state": {
            "_dom_classes": [],
            "_model_module": "@jupyter-widgets/controls",
            "_model_module_version": "1.5.0",
            "_model_name": "ButtonModel",
            "_view_count": null,
            "_view_module": "@jupyter-widgets/controls",
            "_view_module_version": "1.5.0",
            "_view_name": "ButtonView",
            "button_style": "info",
            "description": "体のきずより",
            "disabled": false,
            "icon": "",
            "layout": "IPY_MODEL_1896227aa02243959171ff4378701f1d",
            "style": "IPY_MODEL_836049e1a5604fd393c8d90bcd8d3b23",
            "tooltip": ""
          }
        },
        "b973848d401b4765b2fad02d48432849": {
          "model_module": "@jupyter-widgets/controls",
          "model_name": "ButtonModel",
          "model_module_version": "1.5.0",
          "state": {
            "_dom_classes": [],
            "_model_module": "@jupyter-widgets/controls",
            "_model_module_version": "1.5.0",
            "_model_name": "ButtonModel",
            "_view_count": null,
            "_view_module": "@jupyter-widgets/controls",
            "_view_module_version": "1.5.0",
            "_view_name": "ButtonView",
            "button_style": "info",
            "description": "気をつけて",
            "disabled": false,
            "icon": "",
            "layout": "IPY_MODEL_7058ad525c064bea8a886eb21cd32530",
            "style": "IPY_MODEL_d1abc105919541918dce1af556dd48f8",
            "tooltip": ""
          }
        },
        "27f0ea9aa67d4ef59e7b91f48162c90e": {
          "model_module": "@jupyter-widgets/controls",
          "model_name": "ButtonModel",
          "model_module_version": "1.5.0",
          "state": {
            "_dom_classes": [],
            "_model_module": "@jupyter-widgets/controls",
            "_model_module_version": "1.5.0",
            "_model_name": "ButtonModel",
            "_view_count": null,
            "_view_module": "@jupyter-widgets/controls",
            "_view_module_version": "1.5.0",
            "_view_name": "ButtonView",
            "button_style": "success",
            "description": "キープ",
            "disabled": false,
            "icon": "",
            "layout": "IPY_MODEL_82b07ad1b8df4ad48db244980c873abd",
            "style": "IPY_MODEL_a9aa34906042405594a155b0acbe8a24",
            "tooltip": ""
          }
        },
        "cca79c66d5204b08a580ddb984ee5d2a": {
          "model_module": "@jupyter-widgets/controls",
          "model_name": "ButtonModel",
          "model_module_version": "1.5.0",
          "state": {
            "_dom_classes": [],
            "_model_module": "@jupyter-widgets/controls",
            "_model_module_version": "1.5.0",
            "_model_name": "ButtonModel",
            "_view_count": null,
            "_view_module": "@jupyter-widgets/controls",
            "_view_module_version": "1.5.0",
            "_view_name": "ButtonView",
            "button_style": "",
            "description": "終了",
            "disabled": false,
            "icon": "",
            "layout": "IPY_MODEL_b7fcd8fd4ee04aa3bf7d9b820959aff9",
            "style": "IPY_MODEL_50f878ed9f8f475f82ab4bf2b639efee",
            "tooltip": ""
          }
        },
        "6e2c64e255d740b1960b63995de41982": {
          "model_module": "@jupyter-widgets/base",
          "model_name": "LayoutModel",
          "model_module_version": "1.2.0",
          "state": {
            "_model_module": "@jupyter-widgets/base",
            "_model_module_version": "1.2.0",
            "_model_name": "LayoutModel",
            "_view_count": null,
            "_view_module": "@jupyter-widgets/base",
            "_view_module_version": "1.2.0",
            "_view_name": "LayoutView",
            "align_content": null,
            "align_items": null,
            "align_self": null,
            "border": null,
            "bottom": null,
            "display": null,
            "flex": null,
            "flex_flow": null,
            "grid_area": null,
            "grid_auto_columns": null,
            "grid_auto_flow": null,
            "grid_auto_rows": null,
            "grid_column": null,
            "grid_gap": null,
            "grid_row": null,
            "grid_template_areas": null,
            "grid_template_columns": null,
            "grid_template_rows": null,
            "height": null,
            "justify_content": null,
            "justify_items": null,
            "left": null,
            "margin": null,
            "max_height": null,
            "max_width": null,
            "min_height": null,
            "min_width": null,
            "object_fit": null,
            "object_position": null,
            "order": null,
            "overflow": null,
            "overflow_x": null,
            "overflow_y": null,
            "padding": null,
            "right": null,
            "top": null,
            "visibility": null,
            "width": null
          }
        },
        "9c27e58b464a40699abf4189e8c8f9a4": {
          "model_module": "@jupyter-widgets/base",
          "model_name": "LayoutModel",
          "model_module_version": "1.2.0",
          "state": {
            "_model_module": "@jupyter-widgets/base",
            "_model_module_version": "1.2.0",
            "_model_name": "LayoutModel",
            "_view_count": null,
            "_view_module": "@jupyter-widgets/base",
            "_view_module_version": "1.2.0",
            "_view_name": "LayoutView",
            "align_content": null,
            "align_items": null,
            "align_self": null,
            "border": null,
            "bottom": null,
            "display": null,
            "flex": null,
            "flex_flow": null,
            "grid_area": null,
            "grid_auto_columns": null,
            "grid_auto_flow": null,
            "grid_auto_rows": null,
            "grid_column": null,
            "grid_gap": null,
            "grid_row": null,
            "grid_template_areas": null,
            "grid_template_columns": null,
            "grid_template_rows": null,
            "height": "auto",
            "justify_content": null,
            "justify_items": null,
            "left": null,
            "margin": null,
            "max_height": null,
            "max_width": null,
            "min_height": null,
            "min_width": null,
            "object_fit": null,
            "object_position": null,
            "order": null,
            "overflow": null,
            "overflow_x": null,
            "overflow_y": null,
            "padding": null,
            "right": null,
            "top": null,
            "visibility": null,
            "width": "auto"
          }
        },
        "ec44f4cd12a64dab9b9ed689c862e7d7": {
          "model_module": "@jupyter-widgets/controls",
          "model_name": "ButtonStyleModel",
          "model_module_version": "1.5.0",
          "state": {
            "_model_module": "@jupyter-widgets/controls",
            "_model_module_version": "1.5.0",
            "_model_name": "ButtonStyleModel",
            "_view_count": null,
            "_view_module": "@jupyter-widgets/base",
            "_view_module_version": "1.2.0",
            "_view_name": "StyleView",
            "button_color": null,
            "font_weight": ""
          }
        },
        "1896227aa02243959171ff4378701f1d": {
          "model_module": "@jupyter-widgets/base",
          "model_name": "LayoutModel",
          "model_module_version": "1.2.0",
          "state": {
            "_model_module": "@jupyter-widgets/base",
            "_model_module_version": "1.2.0",
            "_model_name": "LayoutModel",
            "_view_count": null,
            "_view_module": "@jupyter-widgets/base",
            "_view_module_version": "1.2.0",
            "_view_name": "LayoutView",
            "align_content": null,
            "align_items": null,
            "align_self": null,
            "border": null,
            "bottom": null,
            "display": null,
            "flex": null,
            "flex_flow": null,
            "grid_area": null,
            "grid_auto_columns": null,
            "grid_auto_flow": null,
            "grid_auto_rows": null,
            "grid_column": null,
            "grid_gap": null,
            "grid_row": null,
            "grid_template_areas": null,
            "grid_template_columns": null,
            "grid_template_rows": null,
            "height": "auto",
            "justify_content": null,
            "justify_items": null,
            "left": null,
            "margin": null,
            "max_height": null,
            "max_width": null,
            "min_height": null,
            "min_width": null,
            "object_fit": null,
            "object_position": null,
            "order": null,
            "overflow": null,
            "overflow_x": null,
            "overflow_y": null,
            "padding": null,
            "right": null,
            "top": null,
            "visibility": null,
            "width": "auto"
          }
        },
        "836049e1a5604fd393c8d90bcd8d3b23": {
          "model_module": "@jupyter-widgets/controls",
          "model_name": "ButtonStyleModel",
          "model_module_version": "1.5.0",
          "state": {
            "_model_module": "@jupyter-widgets/controls",
            "_model_module_version": "1.5.0",
            "_model_name": "ButtonStyleModel",
            "_view_count": null,
            "_view_module": "@jupyter-widgets/base",
            "_view_module_version": "1.2.0",
            "_view_name": "StyleView",
            "button_color": null,
            "font_weight": ""
          }
        },
        "7058ad525c064bea8a886eb21cd32530": {
          "model_module": "@jupyter-widgets/base",
          "model_name": "LayoutModel",
          "model_module_version": "1.2.0",
          "state": {
            "_model_module": "@jupyter-widgets/base",
            "_model_module_version": "1.2.0",
            "_model_name": "LayoutModel",
            "_view_count": null,
            "_view_module": "@jupyter-widgets/base",
            "_view_module_version": "1.2.0",
            "_view_name": "LayoutView",
            "align_content": null,
            "align_items": null,
            "align_self": null,
            "border": null,
            "bottom": null,
            "display": null,
            "flex": null,
            "flex_flow": null,
            "grid_area": null,
            "grid_auto_columns": null,
            "grid_auto_flow": null,
            "grid_auto_rows": null,
            "grid_column": null,
            "grid_gap": null,
            "grid_row": null,
            "grid_template_areas": null,
            "grid_template_columns": null,
            "grid_template_rows": null,
            "height": "auto",
            "justify_content": null,
            "justify_items": null,
            "left": null,
            "margin": null,
            "max_height": null,
            "max_width": null,
            "min_height": null,
            "min_width": null,
            "object_fit": null,
            "object_position": null,
            "order": null,
            "overflow": null,
            "overflow_x": null,
            "overflow_y": null,
            "padding": null,
            "right": null,
            "top": null,
            "visibility": null,
            "width": "auto"
          }
        },
        "d1abc105919541918dce1af556dd48f8": {
          "model_module": "@jupyter-widgets/controls",
          "model_name": "ButtonStyleModel",
          "model_module_version": "1.5.0",
          "state": {
            "_model_module": "@jupyter-widgets/controls",
            "_model_module_version": "1.5.0",
            "_model_name": "ButtonStyleModel",
            "_view_count": null,
            "_view_module": "@jupyter-widgets/base",
            "_view_module_version": "1.2.0",
            "_view_name": "StyleView",
            "button_color": null,
            "font_weight": ""
          }
        },
        "82b07ad1b8df4ad48db244980c873abd": {
          "model_module": "@jupyter-widgets/base",
          "model_name": "LayoutModel",
          "model_module_version": "1.2.0",
          "state": {
            "_model_module": "@jupyter-widgets/base",
            "_model_module_version": "1.2.0",
            "_model_name": "LayoutModel",
            "_view_count": null,
            "_view_module": "@jupyter-widgets/base",
            "_view_module_version": "1.2.0",
            "_view_name": "LayoutView",
            "align_content": null,
            "align_items": null,
            "align_self": null,
            "border": null,
            "bottom": null,
            "display": null,
            "flex": null,
            "flex_flow": null,
            "grid_area": null,
            "grid_auto_columns": null,
            "grid_auto_flow": null,
            "grid_auto_rows": null,
            "grid_column": null,
            "grid_gap": null,
            "grid_row": null,
            "grid_template_areas": null,
            "grid_template_columns": null,
            "grid_template_rows": null,
            "height": null,
            "justify_content": null,
            "justify_items": null,
            "left": null,
            "margin": null,
            "max_height": null,
            "max_width": null,
            "min_height": null,
            "min_width": null,
            "object_fit": null,
            "object_position": null,
            "order": null,
            "overflow": null,
            "overflow_x": null,
            "overflow_y": null,
            "padding": null,
            "right": null,
            "top": null,
            "visibility": null,
            "width": "auto"
          }
        },
        "a9aa34906042405594a155b0acbe8a24": {
          "model_module": "@jupyter-widgets/controls",
          "model_name": "ButtonStyleModel",
          "model_module_version": "1.5.0",
          "state": {
            "_model_module": "@jupyter-widgets/controls",
            "_model_module_version": "1.5.0",
            "_model_name": "ButtonStyleModel",
            "_view_count": null,
            "_view_module": "@jupyter-widgets/base",
            "_view_module_version": "1.2.0",
            "_view_name": "StyleView",
            "button_color": null,
            "font_weight": ""
          }
        },
        "b7fcd8fd4ee04aa3bf7d9b820959aff9": {
          "model_module": "@jupyter-widgets/base",
          "model_name": "LayoutModel",
          "model_module_version": "1.2.0",
          "state": {
            "_model_module": "@jupyter-widgets/base",
            "_model_module_version": "1.2.0",
            "_model_name": "LayoutModel",
            "_view_count": null,
            "_view_module": "@jupyter-widgets/base",
            "_view_module_version": "1.2.0",
            "_view_name": "LayoutView",
            "align_content": null,
            "align_items": null,
            "align_self": null,
            "border": null,
            "bottom": null,
            "display": null,
            "flex": null,
            "flex_flow": null,
            "grid_area": null,
            "grid_auto_columns": null,
            "grid_auto_flow": null,
            "grid_auto_rows": null,
            "grid_column": null,
            "grid_gap": null,
            "grid_row": null,
            "grid_template_areas": null,
            "grid_template_columns": null,
            "grid_template_rows": null,
            "height": null,
            "justify_content": null,
            "justify_items": null,
            "left": null,
            "margin": null,
            "max_height": null,
            "max_width": null,
            "min_height": null,
            "min_width": null,
            "object_fit": null,
            "object_position": null,
            "order": null,
            "overflow": null,
            "overflow_x": null,
            "overflow_y": null,
            "padding": null,
            "right": null,
            "top": null,
            "visibility": null,
            "width": "auto"
          }
        },
        "50f878ed9f8f475f82ab4bf2b639efee": {
          "model_module": "@jupyter-widgets/controls",
          "model_name": "ButtonStyleModel",
          "model_module_version": "1.5.0",
          "state": {
            "_model_module": "@jupyter-widgets/controls",
            "_model_module_version": "1.5.0",
            "_model_name": "ButtonStyleModel",
            "_view_count": null,
            "_view_module": "@jupyter-widgets/base",
            "_view_module_version": "1.2.0",
            "_view_name": "StyleView",
            "button_color": null,
            "font_weight": ""
          }
        },
        "d2dae580aa6d4f3299dbbae3a7421593": {
          "model_module": "@jupyter-widgets/output",
          "model_name": "OutputModel",
          "model_module_version": "1.0.0",
          "state": {
            "_dom_classes": [],
            "_model_module": "@jupyter-widgets/output",
            "_model_module_version": "1.0.0",
            "_model_name": "OutputModel",
            "_view_count": null,
            "_view_module": "@jupyter-widgets/output",
            "_view_module_version": "1.0.0",
            "_view_name": "OutputView",
            "layout": "IPY_MODEL_7c94da8e23fc49dcb0cb202daca8ff9e",
            "msg_id": "",
            "outputs": [
              {
                "output_type": "stream",
                "name": "stdout",
                "text": [
                  "(3, 602, 392)\n"
                ]
              }
            ]
          }
        },
        "7c94da8e23fc49dcb0cb202daca8ff9e": {
          "model_module": "@jupyter-widgets/base",
          "model_name": "LayoutModel",
          "model_module_version": "1.2.0",
          "state": {
            "_model_module": "@jupyter-widgets/base",
            "_model_module_version": "1.2.0",
            "_model_name": "LayoutModel",
            "_view_count": null,
            "_view_module": "@jupyter-widgets/base",
            "_view_module_version": "1.2.0",
            "_view_name": "LayoutView",
            "align_content": null,
            "align_items": null,
            "align_self": null,
            "border": null,
            "bottom": null,
            "display": null,
            "flex": null,
            "flex_flow": null,
            "grid_area": null,
            "grid_auto_columns": null,
            "grid_auto_flow": null,
            "grid_auto_rows": null,
            "grid_column": null,
            "grid_gap": null,
            "grid_row": null,
            "grid_template_areas": null,
            "grid_template_columns": null,
            "grid_template_rows": null,
            "height": null,
            "justify_content": null,
            "justify_items": null,
            "left": null,
            "margin": null,
            "max_height": null,
            "max_width": null,
            "min_height": null,
            "min_width": null,
            "object_fit": null,
            "object_position": null,
            "order": null,
            "overflow": null,
            "overflow_x": null,
            "overflow_y": null,
            "padding": null,
            "right": null,
            "top": null,
            "visibility": null,
            "width": null
          }
        }
      }
    }
  },
  "cells": [
    {
      "cell_type": "markdown",
      "metadata": {
        "id": "view-in-github",
        "colab_type": "text"
      },
      "source": [
        "<a href=\"https://colab.research.google.com/github/you5imazu/colab_pub/blob/main/P01_JinkenHyogo_1.ipynb\" target=\"_parent\"><img src=\"https://colab.research.google.com/assets/colab-badge.svg\" alt=\"Open In Colab\"/></a>"
      ]
    },
    {
      "cell_type": "markdown",
      "metadata": {
        "id": "QK1qtAbx7DCH"
      },
      "source": [
        "# 標語作成アシストプログラム"
      ]
    },
    {
      "cell_type": "code",
      "source": [
        "import os\n",
        "from google.colab import drive\n",
        "\n",
        "drive.mount('/content/drive/')\n",
        "\n",
        "%cd \"/content/drive/My Drive/50-PyTensorflow/U04_TwitterBot/MyModel\"\n",
        " \n",
        "# os.getcwd()\n"
      ],
      "metadata": {
        "colab": {
          "base_uri": "https://localhost:8080/"
        },
        "id": "CgF2GO_dX1r2",
        "outputId": "ec99dbad-49ae-486b-9f91-7017284a0354"
      },
      "execution_count": null,
      "outputs": [
        {
          "output_type": "stream",
          "name": "stdout",
          "text": [
            "Drive already mounted at /content/drive/; to attempt to forcibly remount, call drive.mount(\"/content/drive/\", force_remount=True).\n",
            "/content/drive/My Drive/50-PyTensorflow/U04_TwitterBot/MyModel\n"
          ]
        }
      ]
    },
    {
      "cell_type": "markdown",
      "source": [
        "# データ読み込み"
      ],
      "metadata": {
        "id": "cLX7L-97dRFt"
      }
    },
    {
      "cell_type": "code",
      "metadata": {
        "id": "h7HH2NJB7DCJ"
      },
      "source": [
        "import os\n",
        "import pandas as pd\n",
        "\n",
        "# file = \"標語作成.csv\"\n",
        "file = \"標語作成.xlsx\"\n",
        "\n",
        "CH5 = []\n",
        "CH7 = []\n",
        "\n",
        "ext = os.path.splitext(file)[1]\n",
        "\n",
        "if ext == '.xlsx':\n",
        "  \n",
        "  df = pd.read_excel(file)\n",
        "  CH5 = [x for x in df['WORD5'].tolist() if not pd.isnull(x)]\n",
        "  CH7 = [x for x in df['WORD7'].tolist() if not pd.isnull(x)]\n",
        "\n",
        "elif ext == '.csv':\n",
        "\n",
        "  with open(file, \"r\", encoding='utf-8-sig') as f:\n",
        "    for d in f:\n",
        "      s = d.split(\",\")\n",
        "      if len(s[0]) > 0:\n",
        "        CH5.append(s[0])\n",
        "\n",
        "      if len(s[1].split(\"\\n\")[0]) >0:\n",
        "        CH7.append(s[1].split(\"\\n\")[0])\n"
      ],
      "execution_count": null,
      "outputs": []
    },
    {
      "cell_type": "markdown",
      "source": [
        "# 新モデル"
      ],
      "metadata": {
        "id": "oG06S-Bpj56E"
      }
    },
    {
      "cell_type": "code",
      "source": [
        "import random\n",
        "import ipywidgets as wg\n",
        "\n",
        "class Jinken():\n",
        "\n",
        "  # ------- コンストラクタ -----------\n",
        "  def __init__(self, data=[], exist=None):\n",
        "\n",
        "    self.n_kami = len(data[0])\n",
        "    self.n_naka = len(data[1])\n",
        "    self.n_simo = len(data[2])\n",
        "    self.output = wg.Output()  # 出力先\n",
        "\n",
        "    k0 = random.randint(0, self.n_kami-1)\n",
        "    k1 = random.randint(0, self.n_naka-1)\n",
        "    k2 = random.randint(0, self.n_simo-1)\n",
        "\n",
        "    if exist:\n",
        "      k0, k1, k2 = exist\n",
        "\n",
        "    self.bt0 = wg.Button(layout=wg.Layout(width='auto', height='auto'))\n",
        "    self.bt0.id = 0\n",
        "    self.bt0.data = data[0]\n",
        "    self.bt0.k = k0\n",
        "    self.bt0.description = self.bt0.data[self.bt0.k]\n",
        "\n",
        "    self.bt1 = wg.Button(layout=wg.Layout(width='auto', height='auto'))\n",
        "    self.bt1.id = 1\n",
        "    self.bt1.data = data[1]\n",
        "    self.bt1.k = k1\n",
        "    self.bt1.description = self.bt1.data[self.bt1.k]\n",
        "\n",
        "    self.bt2 = wg.Button(layout=wg.Layout(width='auto', height='auto'))\n",
        "    self.bt2.id = 2\n",
        "    self.bt2.data = data[2]\n",
        "    self.bt2.k = k2\n",
        "    self.bt2.description = self.bt2.data[self.bt2.k]\n",
        "\n",
        "    self.btK = wg.Button(description=\"キープ\", layout=wg.Layout(width='auto'))\n",
        "    self.btK.id = -2\n",
        "\n",
        "    self.btX = wg.Button(description=\"終了\", layout=wg.Layout(width='auto'))\n",
        "    self.btX.id = -1\n",
        "\n",
        "    self.bt0.button_style = \"info\"  # \"info\"\n",
        "    self.bt1.button_style = \"info\" # \"success\"\n",
        "    self.bt2.button_style = \"info\"  # \"primary\"\n",
        "    self.btK.button_style = \"success\"  # \"primary\"\n",
        "\n",
        "    self.bt0.on_click(self.on_button_clicked)\n",
        "    self.bt1.on_click(self.on_button_clicked)\n",
        "    self.bt2.on_click(self.on_button_clicked)\n",
        "    self.btX.on_click(self.on_button_clicked)\n",
        "    self.btK.on_click(self.on_button_clicked)\n",
        "\n",
        "\n",
        "  # @output.capture()\n",
        "  def on_button_clicked(self, b):\n",
        "\n",
        "    with self.output:\n",
        "\n",
        "      self.output.clear_output()  # 前のクリック時の出力を消す\n",
        "\n",
        "      if 0 <= b.id:\n",
        "        if not self.btX.disabled:\n",
        "          b.k = random.randint(0, len(b.data)-1)\n",
        "          b.description = b.data[b.k]\n",
        "      elif b.id == -1:\n",
        "        self.btK.disabled = True\n",
        "        self.btX.disabled = True\n",
        "        self.btX.description = \"完成\"\n",
        "        self.bt0.button_style = \"warning\"\n",
        "        self.bt1.button_style = \"warning\"\n",
        "        self.bt2.button_style = \"warning\"\n",
        "      elif b.id == -2:\n",
        "        self.btK.disabled = True\n",
        "        self.btX.disabled = True\n",
        "        self.btX.description = \"完成\"\n",
        "        self.bt0.button_style = \"warning\"\n",
        "        self.bt1.button_style = \"warning\"\n",
        "        self.bt2.button_style = \"warning\"\n",
        "        jk = Jinken(\n",
        "            data=(self.bt0.data, self.bt1.data, self.bt2.data), \n",
        "            exist=(self.bt0.k, self.bt1.k, self.bt2.k)\n",
        "            )\n",
        "        jk.run()\n",
        "\n",
        "      print((self.bt0.k, self.bt1.k, self.bt2.k))\n",
        "\n",
        "\n",
        "  def run(self, exist=None):\n",
        "\n",
        "    vbox = wg.HBox((self.bt0, self.bt1, self.bt2, self.btK, self.btX))\n",
        "    display(vbox, self.output)\n"
      ],
      "metadata": {
        "id": "U06ZGuIkjvre"
      },
      "execution_count": null,
      "outputs": []
    },
    {
      "cell_type": "markdown",
      "source": [
        "# 実行"
      ],
      "metadata": {
        "id": "UB6ac8yzuOWg"
      }
    },
    {
      "cell_type": "code",
      "source": [
        "\n",
        "# exist = None\n",
        "exist = (232,197,251)\n",
        "\n",
        "jk = Jinken(data=(CH5, CH7, CH5), exist=exist)\n",
        "jk.run()\n",
        "\n",
        "\n"
      ],
      "metadata": {
        "colab": {
          "base_uri": "https://localhost:8080/",
          "height": 67,
          "referenced_widgets": [
            "34d25fe5a4ae4f6b9042a179024c6db7",
            "1ee8d4a8e4a6410184cce6f59a1e27b6",
            "db462901a9db42419f074d8e562784b2",
            "b973848d401b4765b2fad02d48432849",
            "27f0ea9aa67d4ef59e7b91f48162c90e",
            "cca79c66d5204b08a580ddb984ee5d2a",
            "6e2c64e255d740b1960b63995de41982",
            "9c27e58b464a40699abf4189e8c8f9a4",
            "ec44f4cd12a64dab9b9ed689c862e7d7",
            "1896227aa02243959171ff4378701f1d",
            "836049e1a5604fd393c8d90bcd8d3b23",
            "7058ad525c064bea8a886eb21cd32530",
            "d1abc105919541918dce1af556dd48f8",
            "82b07ad1b8df4ad48db244980c873abd",
            "a9aa34906042405594a155b0acbe8a24",
            "b7fcd8fd4ee04aa3bf7d9b820959aff9",
            "50f878ed9f8f475f82ab4bf2b639efee",
            "d2dae580aa6d4f3299dbbae3a7421593",
            "7c94da8e23fc49dcb0cb202daca8ff9e"
          ]
        },
        "id": "ax7UKMmQlN6Y",
        "outputId": "98da579b-f419-4eee-9249-f98b8350e094"
      },
      "execution_count": null,
      "outputs": [
        {
          "output_type": "display_data",
          "data": {
            "text/plain": [
              "HBox(children=(Button(button_style='info', description='ない社会', layout=Layout(height='auto', width='auto'), sty…"
            ],
            "application/vnd.jupyter.widget-view+json": {
              "version_major": 2,
              "version_minor": 0,
              "model_id": "34d25fe5a4ae4f6b9042a179024c6db7"
            }
          },
          "metadata": {}
        },
        {
          "output_type": "display_data",
          "data": {
            "text/plain": [
              "Output()"
            ],
            "application/vnd.jupyter.widget-view+json": {
              "version_major": 2,
              "version_minor": 0,
              "model_id": "d2dae580aa6d4f3299dbbae3a7421593"
            }
          },
          "metadata": {}
        }
      ]
    }
  ]
}